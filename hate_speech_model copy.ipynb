{
 "cells": [
  {
   "cell_type": "code",
   "execution_count": 27,
   "metadata": {},
   "outputs": [],
   "source": [
    "import pandas as pd\n",
    "import re\n",
    "from bs4 import BeautifulSoup\n",
    "\n",
    "# Load data\n",
    "data = pd.read_csv('HateSpeechDatasetBalanced.csv')\n",
    "\n",
    "# Randomly sample 2000 rows from the dataset\n",
    "data = data.sample(n=10000, random_state=42).reset_index(drop=True)\n",
    "# Function to remove HTML tags\n",
    "def remove_html_tags(text):\n",
    "    soup = BeautifulSoup(text, 'html.parser')\n",
    "    return soup.get_text()\n",
    "\n",
    "# Function to remove special characters and digits\n",
    "def remove_special_chars_and_digits(text):\n",
    "    text = re.sub(r'[^A-Za-z\\s]', '', text)\n",
    "    return text\n",
    "\n",
    "data['Content'] = data['Content'].apply(remove_html_tags)\n",
    "data['Content'] = data['Content'].apply(remove_special_chars_and_digits)\n"
   ]
  },
  {
   "cell_type": "code",
   "execution_count": 28,
   "metadata": {},
   "outputs": [],
   "source": [
    "from symspellpy import SymSpell, Verbosity\n",
    "import pkg_resources\n",
    "\n",
    "# Function to correct spellings\n",
    "sym_spell = SymSpell(max_dictionary_edit_distance=2, prefix_length=7)\n",
    "dictionary_path = pkg_resources.resource_filename(\"symspellpy\", \"frequency_dictionary_en_82_765.txt\")\n",
    "term_index = 0  # column of the term names in the dictionary text file\n",
    "count_index = 1   # column of the term frequencies in the dictionary text file\n",
    "if not sym_spell.load_dictionary(dictionary_path, term_index, count_index):\n",
    "    print(\"Dictionary file not found\")\n",
    "    \n",
    "def correct_spellings(text):\n",
    "    suggestions = sym_spell.lookup_compound(text, max_edit_distance=2)\n",
    "    if suggestions:\n",
    "        return suggestions[0].term\n",
    "    else:\n",
    "        return text\n",
    "    \n",
    "data['Content'] = data['Content'].apply(correct_spellings)\n",
    "\n",
    "#print(data['Content'].sample(5))\n"
   ]
  },
  {
   "cell_type": "code",
   "execution_count": 29,
   "metadata": {},
   "outputs": [
    {
     "name": "stderr",
     "output_type": "stream",
     "text": [
      "c:\\Users\\luvkumar\\AppData\\Local\\Programs\\Python\\Python311\\Lib\\site-packages\\huggingface_hub\\file_download.py:1150: FutureWarning: `resume_download` is deprecated and will be removed in version 1.0.0. Downloads always resume when possible. If you want to force a new download, use `force_download=True`.\n",
      "  warnings.warn(\n",
      "Some weights of DistilBertForSequenceClassification were not initialized from the model checkpoint at distilbert-base-uncased and are newly initialized: ['classifier.bias', 'pre_classifier.weight', 'classifier.weight', 'pre_classifier.bias']\n",
      "You should probably TRAIN this model on a down-stream task to be able to use it for predictions and inference.\n"
     ]
    }
   ],
   "source": [
    "from transformers import AutoTokenizer, AutoModelForSequenceClassification\n",
    "model_name = 'distilbert-base-uncased'\n",
    "tokenizer = AutoTokenizer.from_pretrained(model_name)\n",
    "model = AutoModelForSequenceClassification.from_pretrained(model_name, num_labels=2)\n"
   ]
  },
  {
   "cell_type": "code",
   "execution_count": 30,
   "metadata": {},
   "outputs": [],
   "source": [
    "for name, param in model.named_parameters():\n",
    "    param.requires_grad = False\n",
    "\n",
    "# Unfreeze the last two layers\n",
    "for name, param in model.named_parameters():\n",
    "    \n",
    "    if 'transformer.layer.5' in name or 'classifier' in name:\n",
    "        param.requires_grad = True"
   ]
  },
  {
   "cell_type": "code",
   "execution_count": 31,
   "metadata": {},
   "outputs": [],
   "source": [
    "from datasets import Dataset\n",
    "\n",
    "# Convert to a Hugging Face Dataset\n",
    "dataset = Dataset.from_pandas(data)"
   ]
  },
  {
   "cell_type": "code",
   "execution_count": 32,
   "metadata": {},
   "outputs": [
    {
     "data": {
      "application/vnd.jupyter.widget-view+json": {
       "model_id": "84f9953d51f14cd2b55d5e69d414fe9d",
       "version_major": 2,
       "version_minor": 0
      },
      "text/plain": [
       "Map:   0%|          | 0/5 [00:00<?, ? examples/s]"
      ]
     },
     "metadata": {},
     "output_type": "display_data"
    }
   ],
   "source": [
    "def tokenize_function(examples):\n",
    "    return tokenizer(examples['Content'], padding=\"max_length\", truncation=True,max_length=512)\n",
    "\n",
    "# Apply tokenization\n",
    "dataset = dataset.map(tokenize_function, batched=True)\n",
    "\n",
    "# Rename columns to match what the model expects\n",
    "dataset = dataset.rename_column(\"Label\", \"labels\")\n"
   ]
  },
  {
   "cell_type": "code",
   "execution_count": 33,
   "metadata": {},
   "outputs": [],
   "source": [
    "# Split the dataset\n",
    "train_test_split = dataset.train_test_split(test_size=0.2)\n",
    "train_dataset = train_test_split['train']\n",
    "eval_dataset = train_test_split['test']\n"
   ]
  },
  {
   "cell_type": "code",
   "execution_count": 34,
   "metadata": {},
   "outputs": [],
   "source": [
    "from transformers import TrainingArguments\n",
    "\n",
    "training_args = TrainingArguments(\n",
    "    output_dir='./results',\n",
    "    num_train_epochs=5,\n",
    "    per_device_train_batch_size=8,\n",
    "    per_device_eval_batch_size=16,\n",
    "    evaluation_strategy='epoch',  # Set evaluation strategy to 'epoch'\n",
    "    save_strategy='epoch',  # Set save strategy to 'epoch'\n",
    "    metric_for_best_model='accuracy',\n",
    "    prediction_loss_only=False,\n",
    "    report_to='none',\n",
    "    learning_rate=2e-5,\n",
    "    weight_decay=0.01,\n",
    "    logging_dir='./logs',\n",
    "    lr_scheduler_type='cosine',\n",
    "    gradient_accumulation_steps=2\n",
    ")"
   ]
  },
  {
   "cell_type": "code",
   "execution_count": 35,
   "metadata": {},
   "outputs": [
    {
     "name": "stderr",
     "output_type": "stream",
     "text": [
      "c:\\Users\\luvkumar\\AppData\\Local\\Programs\\Python\\Python311\\Lib\\site-packages\\transformers\\optimization.py:411: FutureWarning: This implementation of AdamW is deprecated and will be removed in a future version. Use the PyTorch implementation torch.optim.AdamW instead, or set `no_deprecation_warning=True` to disable this warning\n",
      "  warnings.warn(\n"
     ]
    },
    {
     "data": {
      "application/vnd.jupyter.widget-view+json": {
       "model_id": "5650dbb33374420da0e791772f41c1fa",
       "version_major": 2,
       "version_minor": 0
      },
      "text/plain": [
       "  0%|          | 0/5 [00:00<?, ?it/s]"
      ]
     },
     "metadata": {},
     "output_type": "display_data"
    },
    {
     "data": {
      "application/vnd.jupyter.widget-view+json": {
       "model_id": "0c598d3006324cf88ed57568676e6401",
       "version_major": 2,
       "version_minor": 0
      },
      "text/plain": [
       "  0%|          | 0/1 [00:00<?, ?it/s]"
      ]
     },
     "metadata": {},
     "output_type": "display_data"
    },
    {
     "name": "stdout",
     "output_type": "stream",
     "text": [
      "{'eval_loss': 0.6285097002983093, 'eval_accuracy': 1.0, 'eval_runtime': 2.1118, 'eval_samples_per_second': 0.474, 'eval_steps_per_second': 0.474, 'epoch': 1.0}\n"
     ]
    },
    {
     "data": {
      "application/vnd.jupyter.widget-view+json": {
       "model_id": "6856ff707a104a8a8e4b75b26a9cd9b3",
       "version_major": 2,
       "version_minor": 0
      },
      "text/plain": [
       "  0%|          | 0/1 [00:00<?, ?it/s]"
      ]
     },
     "metadata": {},
     "output_type": "display_data"
    },
    {
     "name": "stdout",
     "output_type": "stream",
     "text": [
      "{'eval_loss': 0.6485671997070312, 'eval_accuracy': 1.0, 'eval_runtime': 1.6291, 'eval_samples_per_second': 0.614, 'eval_steps_per_second': 0.614, 'epoch': 2.0}\n"
     ]
    },
    {
     "data": {
      "application/vnd.jupyter.widget-view+json": {
       "model_id": "85240930096443a89a02211f67d13097",
       "version_major": 2,
       "version_minor": 0
      },
      "text/plain": [
       "  0%|          | 0/1 [00:00<?, ?it/s]"
      ]
     },
     "metadata": {},
     "output_type": "display_data"
    },
    {
     "name": "stdout",
     "output_type": "stream",
     "text": [
      "{'eval_loss': 0.6630244851112366, 'eval_accuracy': 1.0, 'eval_runtime': 1.4707, 'eval_samples_per_second': 0.68, 'eval_steps_per_second': 0.68, 'epoch': 3.0}\n"
     ]
    },
    {
     "data": {
      "application/vnd.jupyter.widget-view+json": {
       "model_id": "b2506800e46a42f797129429e8cf07b2",
       "version_major": 2,
       "version_minor": 0
      },
      "text/plain": [
       "  0%|          | 0/1 [00:00<?, ?it/s]"
      ]
     },
     "metadata": {},
     "output_type": "display_data"
    },
    {
     "name": "stdout",
     "output_type": "stream",
     "text": [
      "{'eval_loss': 0.6706757545471191, 'eval_accuracy': 1.0, 'eval_runtime': 1.9308, 'eval_samples_per_second': 0.518, 'eval_steps_per_second': 0.518, 'epoch': 4.0}\n"
     ]
    },
    {
     "data": {
      "application/vnd.jupyter.widget-view+json": {
       "model_id": "0567ae415dec4c31b6f7efc0f7e95495",
       "version_major": 2,
       "version_minor": 0
      },
      "text/plain": [
       "  0%|          | 0/1 [00:00<?, ?it/s]"
      ]
     },
     "metadata": {},
     "output_type": "display_data"
    },
    {
     "name": "stdout",
     "output_type": "stream",
     "text": [
      "{'eval_loss': 0.6728020310401917, 'eval_accuracy': 1.0, 'eval_runtime': 1.7057, 'eval_samples_per_second': 0.586, 'eval_steps_per_second': 0.586, 'epoch': 5.0}\n",
      "{'train_runtime': 80.6911, 'train_samples_per_second': 0.248, 'train_steps_per_second': 0.062, 'train_loss': 0.3475176334381104, 'epoch': 5.0}\n"
     ]
    },
    {
     "data": {
      "application/vnd.jupyter.widget-view+json": {
       "model_id": "f44c2f4231e4400ea27f9be8703bce20",
       "version_major": 2,
       "version_minor": 0
      },
      "text/plain": [
       "  0%|          | 0/1 [00:00<?, ?it/s]"
      ]
     },
     "metadata": {},
     "output_type": "display_data"
    },
    {
     "name": "stdout",
     "output_type": "stream",
     "text": [
      "{'eval_loss': 0.6728020310401917, 'eval_accuracy': 1.0, 'eval_runtime': 1.4353, 'eval_samples_per_second': 0.697, 'eval_steps_per_second': 0.697, 'epoch': 5.0}\n"
     ]
    }
   ],
   "source": [
    "from transformers import Trainer\n",
    "\n",
    "# Accuracy Calculation Function\n",
    "def compute_metrics(pred):\n",
    "    labels = pred.label_ids\n",
    "    preds = pred.predictions.argmax(-1)\n",
    "    accuracy = (preds == labels).mean()\n",
    "    return {\"accuracy\": accuracy}\n",
    "\n",
    "# Trainer\n",
    "trainer = Trainer(\n",
    "    model=model,\n",
    "    args=training_args,\n",
    "    train_dataset=train_dataset,\n",
    "    eval_dataset=eval_dataset,\n",
    "    compute_metrics=compute_metrics\n",
    ")\n",
    "\n",
    "# Training\n",
    "trainer.train()\n",
    "\n",
    "# Saving the best model\n",
    "trainer.save_model(\"best-fine-tuned-distilbert-hate-speech\")\n",
    "tokenizer.save_pretrained(\"best-fine-tuned-distilbert-hate-speech\")\n",
    "\n",
    "# Evaluation\n",
    "eval_result = trainer.evaluate()\n",
    "'''\n",
    "# Ensure the correct key for accuracy\n",
    "if 'eval_accuracy' in eval_result:\n",
    "    print(f\"Validation Accuracy: {eval_result['eval_accuracy']}\")\n",
    "elif 'accuracy' in eval_result:\n",
    "    print(f\"Validation Accuracy: {eval_result['accuracy']}\")\n",
    "else:\n",
    "    print(\"Validation accuracy not found in evaluation results.\")\n",
    "'''\n",
    "print(eval_result)"
   ]
  },
  {
   "cell_type": "code",
   "execution_count": 38,
   "metadata": {},
   "outputs": [
    {
     "name": "stderr",
     "output_type": "stream",
     "text": [
      "c:\\Users\\luvkumar\\AppData\\Local\\Programs\\Python\\Python311\\Lib\\site-packages\\transformers\\modeling_utils.py:460: FutureWarning: You are using `torch.load` with `weights_only=False` (the current default value), which uses the default pickle module implicitly. It is possible to construct malicious pickle data which will execute arbitrary code during unpickling (See https://github.com/pytorch/pytorch/blob/main/SECURITY.md#untrusted-models for more details). In a future release, the default value for `weights_only` will be flipped to `True`. This limits the functions that could be executed during unpickling. Arbitrary objects will no longer be allowed to be loaded via this mode unless they are explicitly allowlisted by the user via `torch.serialization.add_safe_globals`. We recommend you start setting `weights_only=True` for any use case where you don't have full control of the loaded file. Please open an issue on GitHub for any issues related to this experimental feature.\n",
      "  return torch.load(checkpoint_file, map_location=\"cpu\")\n"
     ]
    },
    {
     "name": "stdout",
     "output_type": "stream",
     "text": [
      "Predicted class: non-hateful, Score: 0.5174718499183655\n"
     ]
    }
   ],
   "source": [
    "from transformers import pipeline, AutoModelForSequenceClassification, AutoTokenizer\n",
    "\n",
    "# Create a pipeline for text classification with custom labels\n",
    "# Load the pre-trained model and tokenizer from a saved location\n",
    "\n",
    "model_path = 'best-fine-tuned-distilbert-hate-speech'\n",
    "\n",
    "tokenizer_path = 'best-fine-tuned-distilbert-hate-speech'\n",
    "# Define label mapping\n",
    "label_map = {0: 'non-hateful', 1: 'hateful'}\n",
    "model = AutoModelForSequenceClassification.from_pretrained(model_path)\n",
    "\n",
    "tokenizer = AutoTokenizer.from_pretrained(tokenizer_path)\n",
    "\n",
    "\n",
    "classifier = pipeline('text-classification', model=model, tokenizer=tokenizer)\n",
    "\n",
    "# Test the pipeline\n",
    "\n",
    "sentence = \"Shut up and stop wasting everyone’s time with your pathetic excuses.\"\n",
    "\n",
    "def preprocess_sentence(sentence):\n",
    "    sentence = sentence.apply(remove_html_tags)\n",
    "    sentence = sentence.apply(remove_special_chars_and_digits)\n",
    "    sentence = sentence.apply(correct_spellings)\n",
    "    return sentence\n",
    "sentence=pd.DataFrame({'Content':[sentence]})\n",
    "sentence=preprocess_sentence(sentence['Content'])\n",
    "results = classifier(sentence.tolist())\n",
    "\n",
    "# Map the predicted label to human-readable label\n",
    "for result in results:\n",
    "    label_id = int(result['label'].split('_')[-1])  # Extract the label ID\n",
    "    human_readable_label = label_map[label_id]\n",
    "    print(f\"Predicted class: {human_readable_label}, Score: {result['score']}\")\n"
   ]
  }
 ],
 "metadata": {
  "kernelspec": {
   "display_name": "Python 3",
   "language": "python",
   "name": "python3"
  },
  "language_info": {
   "codemirror_mode": {
    "name": "ipython",
    "version": 3
   },
   "file_extension": ".py",
   "mimetype": "text/x-python",
   "name": "python",
   "nbconvert_exporter": "python",
   "pygments_lexer": "ipython3",
   "version": "3.11.3"
  }
 },
 "nbformat": 4,
 "nbformat_minor": 2
}

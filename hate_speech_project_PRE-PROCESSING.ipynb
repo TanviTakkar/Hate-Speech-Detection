{
 "cells": [
  {
   "cell_type": "code",
   "execution_count": 1,
   "metadata": {},
   "outputs": [],
   "source": [
    "import pandas as pd\n",
    "import re\n",
    "from bs4 import BeautifulSoup\n",
    "from symspellpy import SymSpell\n",
    "import pkg_resources\n",
    "\n",
    "\n",
    "\n",
    "\n",
    "class HateSpeechAnalysis:\n",
    "    def __init__(self, data_path):\n",
    "        \n",
    "        self.data = pd.read_csv(data_path)\n",
    "        self.sym_spell = self.initialize_symspell()\n",
    "        \n",
    "        \n",
    "    def initialize_symspell(self):\n",
    "        sym_spell = SymSpell(max_dictionary_edit_distance=2, prefix_length=7)\n",
    "        dictionary_path = pkg_resources.resource_filename(\"symspellpy\", \"frequency_dictionary_en_82_765.txt\")\n",
    "        term_index = 0  # column of the term names in the dictionary text file\n",
    "        count_index = 1   # column of the term frequencies in the dictionary text file\n",
    "        if not sym_spell.load_dictionary(dictionary_path, term_index, count_index):\n",
    "            print(\"Dictionary file not found\")\n",
    "        return sym_spell\n",
    "\n",
    "    def preprocess_data(self):\n",
    "        self.data = self.data.sample(n=3000, random_state=42).reset_index(drop=True)\n",
    "        self.data['Content'] = self.data['Content'].apply(self.remove_html_tags)\n",
    "        self.data['Content'] = self.data['Content'].apply(self.remove_special_chars_and_digits)\n",
    "        self.data['Content'] = self.data['Content'].apply(self.correct_spellings)\n",
    "        \n",
    "\n",
    "    \n",
    "    def remove_html_tags(self, text):\n",
    "        soup = BeautifulSoup(text, 'html.parser')\n",
    "        return soup.get_text()\n",
    "\n",
    "    def remove_special_chars_and_digits(self, text):\n",
    "        text = re.sub(r'[^A-Za-z\\s]', '', text)\n",
    "        return text\n",
    "\n",
    "    def correct_spellings(self, text):\n",
    "        suggestions = self.sym_spell.lookup_compound(text, max_edit_distance=2)\n",
    "        if suggestions:\n",
    "            return suggestions[0].term\n",
    "        else:\n",
    "            return text\n",
    "    \n",
    "    "
   ]
  },
  {
   "cell_type": "code",
   "execution_count": 141,
   "metadata": {},
   "outputs": [
    {
     "name": "stderr",
     "output_type": "stream",
     "text": [
      "Some weights of DistilBertForSequenceClassification were not initialized from the model checkpoint at distilbert-base-uncased and are newly initialized: ['classifier.bias', 'classifier.weight', 'pre_classifier.bias', 'pre_classifier.weight']\n",
      "You should probably TRAIN this model on a down-stream task to be able to use it for predictions and inference.\n"
     ]
    }
   ],
   "source": [
    "\n",
    "if __name__ == \"__main__\":\n",
    "    analysis = HateSpeechAnalysis(data_path='HateSpeechDatasetBalanced.csv')  "
   ]
  },
  {
   "cell_type": "code",
   "execution_count": 126,
   "metadata": {},
   "outputs": [],
   "source": [
    "# Preprocessing\n",
    "analysis.preprocess_data()\n",
    "\n",
    "    "
   ]
  }
 ],
 "metadata": {
  "kernelspec": {
   "display_name": "Python 3",
   "language": "python",
   "name": "python3"
  },
  "language_info": {
   "codemirror_mode": {
    "name": "ipython",
    "version": 3
   },
   "file_extension": ".py",
   "mimetype": "text/x-python",
   "name": "python",
   "nbconvert_exporter": "python",
   "pygments_lexer": "ipython3",
   "version": "3.11.3"
  }
 },
 "nbformat": 4,
 "nbformat_minor": 2
}
